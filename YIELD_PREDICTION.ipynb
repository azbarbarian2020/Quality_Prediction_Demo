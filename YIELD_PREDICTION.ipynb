{
 "metadata": {
  "kernelspec": {
   "display_name": "Streamlit Notebook",
   "name": "streamlit"
  },
  "lastEditStatus": {
   "notebookId": "qfho6fzy5a2zruwoq5qo",
   "authorId": "2028723234080",
   "authorName": "ADMIN",
   "authorEmail": "jason.drew@snowflake.com",
   "sessionId": "5a84cd1b-c3bb-487d-a9c8-96402676c072",
   "lastEditTime": 1740759798415
  }
 },
 "nbformat_minor": 5,
 "nbformat": 4,
 "cells": [
  {
   "cell_type": "markdown",
   "id": "4f1a67f5-4af2-44c6-85d4-ab04afd5c96b",
   "metadata": {
    "name": "cell8",
    "collapsed": false
   },
   "source": "Step 1:  Install and import needed packages and libraries, set active session"
  },
  {
   "cell_type": "code",
   "id": "3775908f-ca36-4846-8f38-5adca39217f2",
   "metadata": {
    "language": "python",
    "name": "cell1",
    "collapsed": false
   },
   "source": "# Import python packages, added numpy, sckit-learn and pandas\nimport streamlit as st\nimport pandas as pd\nimport numpy as np\nimport pickle\nimport gzip\nfrom sklearn.model_selection import train_test_split\nfrom sklearn.linear_model import LinearRegression\nfrom sklearn.metrics import mean_absolute_error, mean_squared_error\nfrom snowflake.snowpark.types import ArrayType, DoubleType\n\n# We can also use Snowpark for our analyses!\nfrom snowflake.snowpark.context import get_active_session\nsession = get_active_session()\n",
   "execution_count": null,
   "outputs": []
  },
  {
   "cell_type": "markdown",
   "id": "7ed85bbd-ff45-43ef-98ce-9579df7897d3",
   "metadata": {
    "name": "cell9",
    "collapsed": false
   },
   "source": "Step 2:  Import train_table into Pandas DataFrame.  Set features for X and label for y.  Establish train/test split"
  },
  {
   "cell_type": "code",
   "id": "943d72f0-d24f-4a49-81f6-91a72f72f0db",
   "metadata": {
    "language": "python",
    "name": "cell2",
    "collapsed": false
   },
   "outputs": [],
   "source": "\ndata = session.table(\"demo_db.streaming.train_table\").to_pandas()\n\nX = data[['FEED_RATE_ABNORMAL_PCT', 'FEED_RATE_AVG', 'VIBRATION_ABNORMAL_PCT', 'VIBRATION_AVG', 'SPINDLE_SPEED_ABNORMAL_PCT', 'SPINDLE_SPEED_AVG', 'TOOL_WEAR']]\ny = data['QUALITY_YIELD']\n\nX_train, X_test, y_train, y_test = train_test_split(X, y, test_size=0.2, random_state=42)",
   "execution_count": null
  },
  {
   "cell_type": "markdown",
   "id": "b8f24124-d54d-459f-96d1-734746a7138c",
   "metadata": {
    "name": "cell10",
    "collapsed": false
   },
   "source": "Step 3:  Create a class that limits the predicted value to a maximum of 1, create a LinearRegression model and write to model.pkl"
  },
  {
   "cell_type": "code",
   "id": "14ff6062-20b3-4f22-b153-2826fd7a34df",
   "metadata": {
    "language": "python",
    "name": "cell3",
    "collapsed": false
   },
   "outputs": [],
   "source": "class ClippedLinearRegression(LinearRegression):\n    def predict(self, X):\n        predictions = super().predict(X)\n        return np.clip(predictions, 0, 1)\n\n# Create and train the model\nmodel = ClippedLinearRegression()\nmodel.fit(X_train, y_train)\n\n# Save the model\nwith open('model.pkl', 'wb') as f:\n    pickle.dump(model, f)",
   "execution_count": null
  },
  {
   "cell_type": "markdown",
   "id": "4bc88cdf-320f-46ea-b935-a1bdd639d6ba",
   "metadata": {
    "name": "cell11",
    "collapsed": false
   },
   "source": "Step 4:  Save the model.pkl file to @my_stage"
  },
  {
   "cell_type": "code",
   "id": "a12776c8-cbcf-492d-a37d-505d9ef034b1",
   "metadata": {
    "language": "python",
    "name": "cell4",
    "collapsed": false
   },
   "outputs": [],
   "source": "session.file.put(\"model.pkl\", \"@my_stage\", overwrite=True)",
   "execution_count": null
  },
  {
   "cell_type": "markdown",
   "id": "121b246b-44be-4e10-aa81-fb6554037046",
   "metadata": {
    "name": "cell12",
    "collapsed": false
   },
   "source": "Step 5:  Unzip model.pkl.gz, use it to create and register an PREDICT_MODEL UDF"
  },
  {
   "cell_type": "code",
   "id": "3cdb41bb-45af-4255-8d11-5e0c3da9961f",
   "metadata": {
    "language": "python",
    "name": "cell5",
    "collapsed": false
   },
   "outputs": [],
   "source": "\n\n# Define a local directory to download the file to (for example, '/tmp')\ntarget_directory = '/tmp'\n\n# Download the model file to the local directory\nsession.file.get(\"@my_stage/model.pkl.gz\", target_directory)\n\n# Now, the file is available locally at /tmp/model.pkl.gz\nmodel_file_path = target_directory + \"/model.pkl.gz\"\n\n# Open the file and decompress it\nwith gzip.GzipFile(model_file_path, mode='rb') as f:\n    model = pickle.load(f)\n\n\n\n# Define the UDF function without the decorator\ndef predict_udf(features):\n    # Predict based on features\n    prediction = model.predict([features])[0]\n    return prediction\n\n# Specify the stage location where your UDF code will be stored\nstage_location = \"@my_stage\"  # Replace this with your actual stage location\n\n# Register UDF expecting an array of Doubles\nsession.udf.register(\n    predict_udf, \n    name=\"PREDICT_MODEL\", \n    input_types=[ArrayType(DoubleType())],  # Specify array input type\n    return_type=DoubleType(),  # Specify return type\n    is_permanent=True, \n    replace=True, \n    stage_location=stage_location,\n    packages=[\"scikit-learn\"]\n)\n",
   "execution_count": null
  },
  {
   "cell_type": "markdown",
   "id": "d7bc6502-bd02-49d0-9e19-e8e11e8d0686",
   "metadata": {
    "name": "cell13",
    "collapsed": false
   },
   "source": "Step 6:  Run the model and compare predictions against the train_table"
  },
  {
   "cell_type": "code",
   "id": "325eddb3-d383-468f-b372-2c4c7761785a",
   "metadata": {
    "language": "sql",
    "name": "cell6",
    "collapsed": false
   },
   "outputs": [],
   "source": "SELECT \n    BATCH_ID, \n    MACHINE_NAME,\n    FEED_RATE_ABNORMAL_PCT,\n    FEED_RATE_AVG,\n    VIBRATION_ABNORMAL_PCT, \n    VIBRATION_AVG, \n    SPINDLE_SPEED_ABNORMAL_PCT,\n    SPINDLE_SPEED_AVG,\n    TOOL_WEAR,\n    QUALITY_YIELD,\n    PREDICT_MODEL(\n        ARRAY_CONSTRUCT(\n            FEED_RATE_ABNORMAL_PCT,\n            FEED_RATE_AVG,\n            VIBRATION_ABNORMAL_PCT, \n            VIBRATION_AVG, \n            SPINDLE_SPEED_ABNORMAL_PCT,\n            SPINDLE_SPEED_AVG,\n            TOOL_WEAR\n        )\n    ) AS predicted_value\nFROM train_table;",
   "execution_count": null
  },
  {
   "cell_type": "markdown",
   "id": "306e2556-bde4-4d66-96e2-54b3a67bc241",
   "metadata": {
    "name": "cell14",
    "collapsed": false
   },
   "source": "Step 7:  Run the PREDICT_MODEL UDF on top of the machine_stats view for near real time prediction"
  },
  {
   "cell_type": "code",
   "id": "2fc8dea7-a7ed-4afb-8b4d-58f309669522",
   "metadata": {
    "language": "sql",
    "name": "cell7",
    "collapsed": false
   },
   "outputs": [],
   "source": "SELECT \n    MACHINE_NAME,\n    FEED_RATE_ABNORMAL_PCT,\n    FEED_RATE_AVG,\n    VIBRATION_ABNORMAL_PCT, \n    VIBRATION_AVG, \n    SPINDLE_SPEED_ABNORMAL_PCT,\n    SPINDLE_SPEED_AVG,\n    TOOL_WEAR,\n    PREDICT_MODEL(\n        ARRAY_CONSTRUCT(\n            FEED_RATE_ABNORMAL_PCT,\n            FEED_RATE_AVG,\n            VIBRATION_ABNORMAL_PCT, \n            VIBRATION_AVG, \n            SPINDLE_SPEED_ABNORMAL_PCT,\n            SPINDLE_SPEED_AVG,\n            TOOL_WEAR\n        )\n    ) AS PREDICTED_YIELD\nFROM MACHINE_STATS;",
   "execution_count": null
  },
  {
   "cell_type": "markdown",
   "id": "11626338-93bc-48e2-9480-d1cc8f1c9a7e",
   "metadata": {
    "name": "cell17",
    "collapsed": false
   },
   "source": "Step 8:  Evaluate model metrics"
  },
  {
   "cell_type": "code",
   "id": "7fe42eef-3b0a-442e-93e7-dfde83bed955",
   "metadata": {
    "language": "python",
    "name": "cell15",
    "collapsed": false
   },
   "outputs": [],
   "source": "from sklearn.metrics import mean_absolute_error, mean_squared_error, r2_score, root_mean_squared_error\n\n# Generate predictions on the test set\ny_pred = model.predict(X_test)\n\n# Clip the predictions if needed\ny_pred_clipped = np.clip(y_pred, 0, 1)\n\n# Calculate evaluation metrics\nmae = mean_absolute_error(y_test, y_pred_clipped)\nmse = mean_squared_error(y_test, y_pred_clipped)\nrmse = root_mean_squared_error(y_test, y_pred_clipped)\nr2 = r2_score(y_test, y_pred_clipped)\n\nprint(f\"Mean Absolute Error (MAE): {mae:.4f}\")\nprint(f\"Mean Squared Error (MSE): {mse:.4f}\")\nprint(f\"Root Mean Squared Error (RMSE): {rmse:.4f}\")\nprint(f\"R-squared (R²): {r2:.4f}\")",
   "execution_count": null
  },
  {
   "cell_type": "markdown",
   "id": "c38dda6d-6df5-421b-9219-9025a3ace271",
   "metadata": {
    "name": "cell16",
    "collapsed": false
   },
   "source": "Mean Absolute Error (MAE) - Measures avg prediction error in same units as label.  Lower is better, ideally <0.1  \n\nMean Squared Error (MSE) - Avg squared dif between actual and predicted values.  Lower is better.  <0.01 Good fit, 0.01 to 0.05 Acceptable, MSE > 0.05 model needs improvement\n\nRoot Mean Squared Error (RMSE) - Lower is better, typically <0.1 meaning average prediction error is within 10 percentage points  \n\nR-Squared - How ell the independaent variables explain the variance.  (Ranges from 0 to 1) Higher is better.  >0.7 considered strong, >0.5 is acceptable, and <0.3 is weak"
  }
 ]
}